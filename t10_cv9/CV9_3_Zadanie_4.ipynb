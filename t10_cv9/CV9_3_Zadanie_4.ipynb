{
 "cells": [
  {
   "cell_type": "markdown",
   "id": "6854f873-5d15-4d3c-a71b-8858b7de6d12",
   "metadata": {},
   "source": [
    "## Zadanie 4 (5b)\n",
    "\n",
    "V tomto zadaní budete pracovať s nástrojom FamLinkX a datasetom **dna_screening_zadanie** dostupným v priečinku `inputs`. \n",
    "\n",
    "Dataset obsahuje údaje matky, dcéry a dvoch strýkov, ktorí sú bratmi muža, u ktorého predpokladáme, že je otcom dcéry. Je potrebné potvrdiť alebo vyvrátiť či bol muž otcom dievčaťa. Pomocou nástroja FamLinkX zostavte hypotézy s rodokmeňom členov, vykonajte analýzu, určte výsledné pravdepodobnosti hypotéz a uveďte výsledné rozhodnutie na potvrdenie/zamietnutie otcovstva.\n",
    "\n",
    "<img src=\"data/family_tree.png\" width=\"100%\"/>"
   ]
  },
  {
   "cell_type": "markdown",
   "id": "8af7058b-20cf-4ece-8c7f-e2f38c33e94f",
   "metadata": {},
   "source": [
    "### Úloha 1 (1b)"
   ]
  },
  {
   "cell_type": "markdown",
   "id": "8ceeaa27-3e3e-4b13-9251-2a375fc948d1",
   "metadata": {},
   "source": [
    "**Formulujte hypotézy pre riešenie úlohy:**"
   ]
  },
  {
   "cell_type": "markdown",
   "id": "8d5959c3-f46f-444c-9560-5653eafd9b8a",
   "metadata": {},
   "source": [
    "# Je nežijúci muž, ktorý mal 2 bratov otcom dievčaťa ? Dieťa je vnučkou nežijúcej starej mamy. H(A) nie je to jej otec."
   ]
  },
  {
   "cell_type": "markdown",
   "id": "96a14512-f20f-499c-8398-d7cd3e6d1289",
   "metadata": {},
   "source": [
    "### Úloha 2 (4b)\n",
    "\n",
    "Vykonajte analýzu pomocou nástroja FamLinkX. Ako referenčnú databázu použite Českú alebo Nemeckú databázu. Ako prílohu zadania odovzdajte vygenerovaný report z analýzy (Case report vo formáte .rtf). \n",
    "\n",
    "**Uveďte LR a pravdepodobnosť (W) pre jednotlivé hypotézy a Váš záver analýzy:**"
   ]
  },
  {
   "cell_type": "markdown",
   "id": "27e3ff31-8a10-4ca5-808c-03277d54dafd",
   "metadata": {},
   "source": [
    "<img src=\"pictures/two_aunts_result.png\" width=\"40%\"/>\n",
    "<img src=\"pictures/mother_child_results.png\" width=\"40%\"/>"
   ]
  },
  {
   "cell_type": "code",
   "execution_count": null,
   "id": "6573fa69-7d84-4c74-8c1d-68824f924e35",
   "metadata": {},
   "outputs": [],
   "source": [
    "možeme potvrdiť hypotézu H(0) na 99,99%. Čiže áno, nežijúci muž, s dvomi bratmi je otcom dcéri, ktorá ma 2 strýkov :D \n",
    "Na druhu stranu pravdepodobnosť hypotézy H(A) je 0,01%"
   ]
  }
 ],
 "metadata": {
  "kernelspec": {
   "display_name": "R",
   "language": "R",
   "name": "ir"
  },
  "language_info": {
   "codemirror_mode": "r",
   "file_extension": ".r",
   "mimetype": "text/x-r-source",
   "name": "R",
   "pygments_lexer": "r",
   "version": "4.3.3"
  }
 },
 "nbformat": 4,
 "nbformat_minor": 5
}
