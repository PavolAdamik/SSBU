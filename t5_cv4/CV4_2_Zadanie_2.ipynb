{
 "cells": [
  {
   "cell_type": "markdown",
   "id": "6854f873-5d15-4d3c-a71b-8858b7de6d12",
   "metadata": {},
   "source": [
    "## Zadanie 2 (5b)\n",
    "\n",
    "V tomto zadaní budete pracovať s nástrojom MetaboAnalyst a datasetom: **NMR spectral bins**\n",
    "    \n",
    "`Binned 1H NMR spectra of 50 urine samples using 0.04 ppm constant width (Psihogios NG, et al.) Group 1- control; group 2 - severe kidney disease.`\n",
    "    \n",
    "Tento dataset je dostupný v sekcii 'Try our test data' v nástroji pre Jednofaktorovú štatistickú analýzu. \n",
    "\n",
    "Dataset pochádza z NMR-metabolomickej štúdie: Hodnotenie závažnosti tubulointersticiálnych lézií u pacientov s glomerulonefritídou. Začiatok tubulointersticiálnych lézií je charakterizovaný zníženým vylučovaním citrátu, hipurátu, glycínu a kreatinínu, zatiaľ čo po ďalšom zhoršení nasleduje glykozúria, selektívna aminoacidúria, úplné vyčerpanie citrátu a hipurátu a postupné zvyšovanie vylučovania laktátu, acetátu a trimetylamín-N-oxidu. Metabonomická analýza moču založená na NMR by mohla prispieť k včasnému hodnoteniu závažnosti poškodenia obličiek a prípadne k monitorovaniu ich funkcie. [1]\n",
    "\n",
    "\n",
    "Načítajte množinu údajov v nástroji MetaboAnalyst. Pri filtrovaní údajov (Data filter) môžete použiť predvolené nastavenia."
   ]
  },
  {
   "cell_type": "markdown",
   "id": "8af7058b-20cf-4ece-8c7f-e2f38c33e94f",
   "metadata": {},
   "source": [
    "### Úloha 1 (1b)"
   ]
  },
  {
   "cell_type": "markdown",
   "id": "8ceeaa27-3e3e-4b13-9251-2a375fc948d1",
   "metadata": {},
   "source": [
    "Normalizujte distribúciu datasetu (pre premenné aj vzorku).\n",
    "(Vyberte akúkoľvek kombináciu operácií, ktorá je podľa Vás najlepšia).\n",
    "\n",
    "**Ktoré operácie ste pri normalizácii použili?**"
   ]
  },
  {
   "cell_type": "raw",
   "id": "87207cc0-87e1-44fc-907a-00d090224c04",
   "metadata": {},
   "source": [
    "Sample normalization: Normalization by median\n",
    "Data Transformation:  Square root transformation (square root of data values)\n",
    "Data Scaling:         Mean centering\t(mean-centered only)"
   ]
  },
  {
   "cell_type": "markdown",
   "id": "96a14512-f20f-499c-8398-d7cd3e6d1289",
   "metadata": {},
   "source": [
    "### Úloha 2 (3b)\n",
    "\n",
    "Použite ľubovoľné štatistické metódy na analýzu datasetu (napr. t-test, correlations, PCA, PLS-DA, Dendrogram, Heatmap, K-means, RandomForest, ..) \n",
    "\n",
    "**Uveďte aspoň 3 skutočnosti (z 3 rôznych metód), ktoré ste zistili analýzou datasetu:**\n",
    "\n",
    "(Napr. Pri použití pearsonovho korelačného koeficientu je najvyššia pozitívna korelácia medzi premennými x a y, a koeficient korelácie je 0.992.)"
   ]
  },
  {
   "cell_type": "raw",
   "id": "b52c7e12-3a4f-4b97-a98c-e6d2e42080a2",
   "metadata": {},
   "source": [
    "1: Pri pouziti dendogramu pri single luckage s euklidovskou vzdialenostou sa zhlukovali patient(chory) a control(zdravy). Najskor sa zhlukovali patient a patient spolu a control a control spolu aa nasledne sa tieto zhluky spajali spolu. Zhlukovali sa podla vzdialenosti \"minimum z minima\". Dataset mal dlzku 9.\n",
    "2: Pri pouziti heatmapy som si zredukoval dataset, kde som zobral len top 2 , pri T-teste / ANNOVA. Cize rozdelilo to na pacientov a chorych, pri Bin. 0.94 mali pacienti min hodnotu : 0.0589, max: 2.21; Pri zdravych min: -1,12, max: -0,162. Pri Bin. 0.82 -> mali pacienti min: -0,018 , max:2,11, zdravi: min: -1,22, max: 0.0403\n",
    "3: Pri PLSDA pri imp. features som zobrazil 15 hodnot a mali stupajuci charakter, kde mal Bin. 3.74 najnizsiu hodnotu a Bin. 2.54 najvyzsiu hodnotu"
   ]
  },
  {
   "cell_type": "markdown",
   "id": "ba365496-6912-408d-bcfc-a7f2993c148e",
   "metadata": {},
   "source": [
    "### Úloha 3 (1b)\n",
    "\n",
    "Vygenerujte report z vykonanej analýzy a odovzdajte ho ako prílohu k riešeniu zadania."
   ]
  },
  {
   "cell_type": "markdown",
   "id": "4afda479-3c32-4956-b59f-c53c450a42ba",
   "metadata": {},
   "source": [
    "----\n",
    "\n",
    "#### Referencie\n",
    "\n",
    "[1] Psihogios, N. G., Kalaitzidis, R. G., Dimou, S., Seferiadis, K. I., Siamopoulos, K. C., & Bairaktari, E. T. (2007). Evaluation of tubulointerstitial lesions’ severity in patients with glomerulonephritides: an NMR-based metabonomic study. Journal of Proteome Research, 6(9), 3760–3770. https://doi.org/10.1021/PR070172W"
   ]
  }
 ],
 "metadata": {
  "kernelspec": {
   "display_name": "R",
   "language": "R",
   "name": "ir"
  },
  "language_info": {
   "codemirror_mode": "r",
   "file_extension": ".r",
   "mimetype": "text/x-r-source",
   "name": "R",
   "pygments_lexer": "r",
   "version": "4.3.3"
  }
 },
 "nbformat": 4,
 "nbformat_minor": 5
}
